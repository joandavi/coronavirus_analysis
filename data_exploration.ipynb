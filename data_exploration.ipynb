{
 "nbformat": 4,
 "nbformat_minor": 2,
 "metadata": {
  "language_info": {
   "name": "python",
   "codemirror_mode": {
    "name": "ipython",
    "version": 3
   },
   "version": "2.7.17-final"
  },
  "orig_nbformat": 2,
  "file_extension": ".py",
  "mimetype": "text/x-python",
  "name": "python",
  "npconvert_exporter": "python",
  "pygments_lexer": "ipython3",
  "version": 3,
  "kernelspec": {
   "name": "python36964bitf5b195da2cdf45ecac6606a5567484dd",
   "display_name": "Python 3.6.9 64-bit"
  }
 },
 "cells": [
  {
   "cell_type": "code",
   "execution_count": 34,
   "metadata": {},
   "outputs": [],
   "source": [
    "import pandas as pd\n",
    "pd.options.display.max_columns = 50"
   ]
  },
  {
   "cell_type": "code",
   "execution_count": 18,
   "metadata": {},
   "outputs": [],
   "source": [
    "df_html = pd.read_html('https://docs.google.com/spreadsheets/d/e/2PACX-1vQU0SIALScXx8VXDX7yKNKWWPKE1YjFlWc6VTEVSN45CklWWf-uWmprQIyLtoPDA18tX9cFDr-aQ9S6/pubhtml#')"
   ]
  },
  {
   "cell_type": "code",
   "execution_count": 19,
   "metadata": {},
   "outputs": [],
   "source": [
    "# pd.read_html return as list of dataframes\n",
    "df2 = df_html[0]"
   ]
  },
  {
   "cell_type": "code",
   "execution_count": 20,
   "metadata": {},
   "outputs": [],
   "source": [
    "df2.drop([0, 1, 2],inplace= True)\n",
    "df2.reset_index(inplace = True) #Resetting index"
   ]
  },
  {
   "cell_type": "code",
   "execution_count": null,
   "metadata": {},
   "outputs": [],
   "source": [
    "col = ['reporting_date', 'summary', 'location', 'country', 'gender', 'age', 'symptom_onset', 'If_onset_approximated', 'hosp_visit_date', 'international_traveler', 'domestic_traveler', 'exposure_start', 'exposure_end', 'traveler', 'visiting_Wuhan', 'from_Wuhan', 'death', 'recovered', 'symptom', 'source','link']"
   ]
  },
  {
   "cell_type": "code",
   "execution_count": 28,
   "metadata": {},
   "outputs": [],
   "source": [
    "df2.drop(columns=['index', 'Unnamed: 0', 'Unnamed: 1', 'Unnamed: 2', 'Unnamed: 4', 'Unnamed: 25', 'Unnamed: 26', 'Unnamed: 27', 'Unnamed: 28', 'Unnamed: 29', 'Unnamed: 30'], inplace= True)"
   ]
  },
  {
   "cell_type": "code",
   "execution_count": 38,
   "metadata": {},
   "outputs": [],
   "source": [
    "df2.columns = col"
   ]
  },
  {
   "cell_type": "code",
   "execution_count": 39,
   "metadata": {},
   "outputs": [
    {
     "data": {
      "text/html": "<div>\n<style scoped>\n    .dataframe tbody tr th:only-of-type {\n        vertical-align: middle;\n    }\n\n    .dataframe tbody tr th {\n        vertical-align: top;\n    }\n\n    .dataframe thead th {\n        text-align: right;\n    }\n</style>\n<table border=\"1\" class=\"dataframe\">\n  <thead>\n    <tr style=\"text-align: right;\">\n      <th></th>\n      <th>reporting_date</th>\n      <th>summary</th>\n      <th>location</th>\n      <th>country</th>\n      <th>gender</th>\n      <th>age</th>\n      <th>symptom_onset</th>\n      <th>If_onset_approximated</th>\n      <th>hosp_visit_date</th>\n      <th>international_traveler</th>\n      <th>domestic_traveler</th>\n      <th>exposure_start</th>\n      <th>exposure_end</th>\n      <th>traveler</th>\n      <th>visiting_Wuhan</th>\n      <th>from_Wuhan</th>\n      <th>death</th>\n      <th>recovered</th>\n      <th>symptom</th>\n      <th>source</th>\n      <th>link</th>\n    </tr>\n  </thead>\n  <tbody>\n    <tr>\n      <th>0</th>\n      <td>1/20/2020</td>\n      <td>First confirmed imported COVID-19 pneumonia pa...</td>\n      <td>Shenzhen, Guangdong</td>\n      <td>China</td>\n      <td>male</td>\n      <td>66</td>\n      <td>1/3/2020</td>\n      <td>0</td>\n      <td>1/11/2020</td>\n      <td>NaN</td>\n      <td>NaN</td>\n      <td>12/29/2019</td>\n      <td>1/4/2020</td>\n      <td>NaN</td>\n      <td>1</td>\n      <td>0</td>\n      <td>0</td>\n      <td>0</td>\n      <td>NaN</td>\n      <td>Shenzhen Municipal Health Commission</td>\n      <td>http://wjw.sz.gov.cn/wzx/202001/t20200120_1898...</td>\n    </tr>\n    <tr>\n      <th>1</th>\n      <td>1/20/2020</td>\n      <td>First confirmed imported COVID-19 pneumonia pa...</td>\n      <td>Shanghai</td>\n      <td>China</td>\n      <td>female</td>\n      <td>56</td>\n      <td>1/15/2020</td>\n      <td>0</td>\n      <td>1/15/2020</td>\n      <td>NaN</td>\n      <td>NaN</td>\n      <td>NaN</td>\n      <td>1/12/2020</td>\n      <td>NaN</td>\n      <td>0</td>\n      <td>1</td>\n      <td>0</td>\n      <td>0</td>\n      <td>NaN</td>\n      <td>Official Weibo of Shanghai Municipal Health Co...</td>\n      <td>https://www.weibo.com/2372649470/IqogQhgfa?fro...</td>\n    </tr>\n    <tr>\n      <th>2</th>\n      <td>1/21/2020</td>\n      <td>First confirmed imported cases in Zhejiang: pa...</td>\n      <td>Zhejiang</td>\n      <td>China</td>\n      <td>male</td>\n      <td>46</td>\n      <td>1/4/2020</td>\n      <td>0</td>\n      <td>1/17/2020</td>\n      <td>NaN</td>\n      <td>NaN</td>\n      <td>NaN</td>\n      <td>1/3/2020</td>\n      <td>NaN</td>\n      <td>0</td>\n      <td>1</td>\n      <td>0</td>\n      <td>0</td>\n      <td>NaN</td>\n      <td>Health Commission of Zhejiang Province</td>\n      <td>http://www.zjwjw.gov.cn/art/2020/1/21/art_1202...</td>\n    </tr>\n    <tr>\n      <th>3</th>\n      <td>1/21/2020</td>\n      <td>new confirmed imported COVID-19 pneumonia in T...</td>\n      <td>Tianjin</td>\n      <td>China</td>\n      <td>female</td>\n      <td>60</td>\n      <td>NaN</td>\n      <td>NaN</td>\n      <td>1/19/2020</td>\n      <td>NaN</td>\n      <td>NaN</td>\n      <td>NaN</td>\n      <td>NaN</td>\n      <td>NaN</td>\n      <td>1</td>\n      <td>0</td>\n      <td>0</td>\n      <td>0</td>\n      <td>NaN</td>\n      <td>äººæ°æ¥æ¥å®æ¹å¾®å</td>\n      <td>https://m.weibo.cn/status/4463235401268457?</td>\n    </tr>\n    <tr>\n      <th>4</th>\n      <td>1/21/2020</td>\n      <td>new confirmed imported COVID-19 pneumonia in T...</td>\n      <td>Tianjin</td>\n      <td>China</td>\n      <td>male</td>\n      <td>58</td>\n      <td>NaN</td>\n      <td>NaN</td>\n      <td>1/14/2020</td>\n      <td>NaN</td>\n      <td>NaN</td>\n      <td>NaN</td>\n      <td>NaN</td>\n      <td>NaN</td>\n      <td>0</td>\n      <td>0</td>\n      <td>0</td>\n      <td>0</td>\n      <td>NaN</td>\n      <td>äººæ°æ¥æ¥å®æ¹å¾®å</td>\n      <td>https://m.weibo.cn/status/4463235401268457?</td>\n    </tr>\n  </tbody>\n</table>\n</div>",
      "text/plain": "  reporting_date                                            summary  \\\n0      1/20/2020  First confirmed imported COVID-19 pneumonia pa...   \n1      1/20/2020  First confirmed imported COVID-19 pneumonia pa...   \n2      1/21/2020  First confirmed imported cases in Zhejiang: pa...   \n3      1/21/2020  new confirmed imported COVID-19 pneumonia in T...   \n4      1/21/2020  new confirmed imported COVID-19 pneumonia in T...   \n\n              location country  gender age symptom_onset  \\\n0  Shenzhen, Guangdong   China    male  66      1/3/2020   \n1             Shanghai   China  female  56     1/15/2020   \n2             Zhejiang   China    male  46      1/4/2020   \n3              Tianjin   China  female  60           NaN   \n4              Tianjin   China    male  58           NaN   \n\n  If_onset_approximated hosp_visit_date international_traveler  \\\n0                     0       1/11/2020                    NaN   \n1                     0       1/15/2020                    NaN   \n2                     0       1/17/2020                    NaN   \n3                   NaN       1/19/2020                    NaN   \n4                   NaN       1/14/2020                    NaN   \n\n  domestic_traveler exposure_start exposure_end traveler visiting_Wuhan  \\\n0               NaN     12/29/2019     1/4/2020      NaN              1   \n1               NaN            NaN    1/12/2020      NaN              0   \n2               NaN            NaN     1/3/2020      NaN              0   \n3               NaN            NaN          NaN      NaN              1   \n4               NaN            NaN          NaN      NaN              0   \n\n  from_Wuhan death recovered symptom  \\\n0          0     0         0     NaN   \n1          1     0         0     NaN   \n2          1     0         0     NaN   \n3          0     0         0     NaN   \n4          0     0         0     NaN   \n\n                                              source  \\\n0               Shenzhen Municipal Health Commission   \n1  Official Weibo of Shanghai Municipal Health Co...   \n2             Health Commission of Zhejiang Province   \n3                           äººæ°æ¥æ¥å®æ¹å¾®å   \n4                           äººæ°æ¥æ¥å®æ¹å¾®å   \n\n                                                link  \n0  http://wjw.sz.gov.cn/wzx/202001/t20200120_1898...  \n1  https://www.weibo.com/2372649470/IqogQhgfa?fro...  \n2  http://www.zjwjw.gov.cn/art/2020/1/21/art_1202...  \n3        https://m.weibo.cn/status/4463235401268457?  \n4        https://m.weibo.cn/status/4463235401268457?  "
     },
     "execution_count": 39,
     "metadata": {},
     "output_type": "execute_result"
    }
   ],
   "source": [
    "df2.head()"
   ]
  },
  {
   "cell_type": "code",
   "execution_count": 52,
   "metadata": {},
   "outputs": [
    {
     "data": {
      "text/plain": "(2946, 21)"
     },
     "execution_count": 52,
     "metadata": {},
     "output_type": "execute_result"
    }
   ],
   "source": [
    "df2.shape"
   ]
  },
  {
   "cell_type": "code",
   "execution_count": 42,
   "metadata": {},
   "outputs": [
    {
     "data": {
      "text/plain": "reporting_date             0.203666\nsummary                    0.339443\nlocation                  15.342838\ncountry                   13.000679\ngender                    48.200950\nage                       52.715547\nsymptom_onset             76.985743\nIf_onset_approximated     77.970129\nhosp_visit_date           79.158181\ninternational_traveler    73.896809\ndomestic_traveler         73.896809\nexposure_start            93.584521\nexposure_end              83.740665\ntraveler                  77.596741\nvisiting_Wuhan            45.485404\nfrom_Wuhan                45.621181\ndeath                     45.112016\nrecovered                 45.485404\nsymptom                   88.526816\nsource                    45.485404\nlink                      44.942295\ndtype: float64"
     },
     "execution_count": 42,
     "metadata": {},
     "output_type": "execute_result"
    }
   ],
   "source": [
    "(df2.isnull().sum()/len(df2))*100"
   ]
  },
  {
   "cell_type": "code",
   "execution_count": 53,
   "metadata": {},
   "outputs": [],
   "source": [
    "def unique(df):\n",
    "    for col in df2.columns:\n",
    "        print(col + ':' , len(df2[col].value_counts()))"
   ]
  },
  {
   "cell_type": "code",
   "execution_count": 54,
   "metadata": {},
   "outputs": [
    {
     "name": "stdout",
     "output_type": "stream",
     "text": "reporting_date: 55\nsummary: 1947\nlocation: 231\ncountry: 38\ngender: 2\nage: 90\nsymptom_onset: 81\nIf_onset_approximated: 3\nhosp_visit_date: 68\ninternational_traveler: 2\ndomestic_traveler: 2\nexposure_start: 48\nexposure_end: 62\ntraveler: 2\nvisiting_Wuhan: 2\nfrom_Wuhan: 2\ndeath: 22\nrecovered: 36\nsymptom: 137\nsource: 109\nlink: 533\n"
    }
   ],
   "source": [
    "unique(df2)"
   ]
  },
  {
   "cell_type": "code",
   "execution_count": null,
   "metadata": {},
   "outputs": [],
   "source": [
    "#TODO: create a new colun called death_date"
   ]
  }
 ]
}