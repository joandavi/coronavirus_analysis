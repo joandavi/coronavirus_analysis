{
 "nbformat": 4,
 "nbformat_minor": 2,
 "metadata": {
  "language_info": {
   "name": "python",
   "codemirror_mode": {
    "name": "ipython",
    "version": 3
   },
   "version": "2.7.17-final"
  },
  "orig_nbformat": 2,
  "file_extension": ".py",
  "mimetype": "text/x-python",
  "name": "python",
  "npconvert_exporter": "python",
  "pygments_lexer": "ipython3",
  "version": 3,
  "kernelspec": {
   "name": "python36964bitf5b195da2cdf45ecac6606a5567484dd",
   "display_name": "Python 3.6.9 64-bit"
  }
 },
 "cells": [
  {
   "cell_type": "code",
   "execution_count": 1,
   "metadata": {},
   "outputs": [],
   "source": [
    "import pandas as pd\n",
    "pd.options.display.max_columns = 50"
   ]
  },
  {
   "cell_type": "code",
   "execution_count": 2,
   "metadata": {},
   "outputs": [],
   "source": [
    "df_html = pd.read_html('https://docs.google.com/spreadsheets/d/e/2PACX-1vQU0SIALScXx8VXDX7yKNKWWPKE1YjFlWc6VTEVSN45CklWWf-uWmprQIyLtoPDA18tX9cFDr-aQ9S6/pubhtml#')"
   ]
  },
  {
   "cell_type": "code",
   "execution_count": 3,
   "metadata": {},
   "outputs": [],
   "source": [
    "# pd.read_html return as list of dataframes\n",
    "df2 = df_html[0]"
   ]
  },
  {
   "cell_type": "code",
   "execution_count": 4,
   "metadata": {},
   "outputs": [],
   "source": [
    "df2.drop([0, 1, 2],inplace= True)\n",
    "df2.reset_index(inplace = True) #Resetting index"
   ]
  },
  {
   "cell_type": "code",
   "execution_count": 5,
   "metadata": {},
   "outputs": [],
   "source": [
    "col = ['reporting_date', 'summary', 'location', 'country', 'gender', 'age', 'symptom_onset', 'If_onset_approximated', 'hosp_visit_date', 'international_traveler', 'domestic_traveler', 'exposure_start', 'exposure_end', 'traveler', 'visiting_Wuhan', 'from_Wuhan', 'death', 'recovered', 'symptom', 'source','link']"
   ]
  },
  {
   "cell_type": "code",
   "execution_count": 6,
   "metadata": {},
   "outputs": [],
   "source": [
    "df2.drop(columns=['index', 'Unnamed: 0', 'Unnamed: 1', 'Unnamed: 2', 'Unnamed: 4', 'Unnamed: 25', 'Unnamed: 26', 'Unnamed: 27', 'Unnamed: 28', 'Unnamed: 29', 'Unnamed: 30'], inplace= True)"
   ]
  },
  {
   "cell_type": "code",
   "execution_count": 7,
   "metadata": {},
   "outputs": [],
   "source": [
    "df2.columns = col"
   ]
  },
  {
   "cell_type": "code",
   "execution_count": 11,
   "metadata": {},
   "outputs": [],
   "source": [
    "df2.to_csv('covid-19_03|11|20.csv', index= False)"
   ]
  },
  {
   "cell_type": "code",
   "execution_count": 12,
   "metadata": {},
   "outputs": [
    {
     "data": {
      "text/html": "<div>\n<style scoped>\n    .dataframe tbody tr th:only-of-type {\n        vertical-align: middle;\n    }\n\n    .dataframe tbody tr th {\n        vertical-align: top;\n    }\n\n    .dataframe thead th {\n        text-align: right;\n    }\n</style>\n<table border=\"1\" class=\"dataframe\">\n  <thead>\n    <tr style=\"text-align: right;\">\n      <th></th>\n      <th>reporting_date</th>\n      <th>summary</th>\n      <th>location</th>\n      <th>country</th>\n      <th>gender</th>\n      <th>age</th>\n      <th>symptom_onset</th>\n      <th>If_onset_approximated</th>\n      <th>hosp_visit_date</th>\n      <th>international_traveler</th>\n      <th>domestic_traveler</th>\n      <th>exposure_start</th>\n      <th>exposure_end</th>\n      <th>traveler</th>\n      <th>visiting_Wuhan</th>\n      <th>from_Wuhan</th>\n      <th>death</th>\n      <th>recovered</th>\n      <th>symptom</th>\n      <th>source</th>\n      <th>link</th>\n    </tr>\n  </thead>\n  <tbody>\n    <tr>\n      <th>0</th>\n      <td>1/20/2020</td>\n      <td>First confirmed imported COVID-19 pneumonia pa...</td>\n      <td>Shenzhen, Guangdong</td>\n      <td>China</td>\n      <td>male</td>\n      <td>66.0</td>\n      <td>1/3/2020</td>\n      <td>0.0</td>\n      <td>1/11/2020</td>\n      <td>NaN</td>\n      <td>NaN</td>\n      <td>12/29/2019</td>\n      <td>1/4/2020</td>\n      <td>NaN</td>\n      <td>1.0</td>\n      <td>0.0</td>\n      <td>0</td>\n      <td>0</td>\n      <td>NaN</td>\n      <td>Shenzhen Municipal Health Commission</td>\n      <td>http://wjw.sz.gov.cn/wzx/202001/t20200120_1898...</td>\n    </tr>\n    <tr>\n      <th>1</th>\n      <td>1/20/2020</td>\n      <td>First confirmed imported COVID-19 pneumonia pa...</td>\n      <td>Shanghai</td>\n      <td>China</td>\n      <td>female</td>\n      <td>56.0</td>\n      <td>1/15/2020</td>\n      <td>0.0</td>\n      <td>1/15/2020</td>\n      <td>NaN</td>\n      <td>NaN</td>\n      <td>NaN</td>\n      <td>1/12/2020</td>\n      <td>NaN</td>\n      <td>0.0</td>\n      <td>1.0</td>\n      <td>0</td>\n      <td>0</td>\n      <td>NaN</td>\n      <td>Official Weibo of Shanghai Municipal Health Co...</td>\n      <td>https://www.weibo.com/2372649470/IqogQhgfa?fro...</td>\n    </tr>\n    <tr>\n      <th>2</th>\n      <td>1/21/2020</td>\n      <td>First confirmed imported cases in Zhejiang: pa...</td>\n      <td>Zhejiang</td>\n      <td>China</td>\n      <td>male</td>\n      <td>46.0</td>\n      <td>1/4/2020</td>\n      <td>0.0</td>\n      <td>1/17/2020</td>\n      <td>NaN</td>\n      <td>NaN</td>\n      <td>NaN</td>\n      <td>1/3/2020</td>\n      <td>NaN</td>\n      <td>0.0</td>\n      <td>1.0</td>\n      <td>0</td>\n      <td>0</td>\n      <td>NaN</td>\n      <td>Health Commission of Zhejiang Province</td>\n      <td>http://www.zjwjw.gov.cn/art/2020/1/21/art_1202...</td>\n    </tr>\n    <tr>\n      <th>3</th>\n      <td>1/21/2020</td>\n      <td>new confirmed imported COVID-19 pneumonia in T...</td>\n      <td>Tianjin</td>\n      <td>China</td>\n      <td>female</td>\n      <td>60.0</td>\n      <td>NaN</td>\n      <td>NaN</td>\n      <td>1/19/2020</td>\n      <td>NaN</td>\n      <td>NaN</td>\n      <td>NaN</td>\n      <td>NaN</td>\n      <td>NaN</td>\n      <td>1.0</td>\n      <td>0.0</td>\n      <td>0</td>\n      <td>0</td>\n      <td>NaN</td>\n      <td>äººæ°æ¥æ¥å®æ¹å¾®å</td>\n      <td>https://m.weibo.cn/status/4463235401268457?</td>\n    </tr>\n    <tr>\n      <th>4</th>\n      <td>1/21/2020</td>\n      <td>new confirmed imported COVID-19 pneumonia in T...</td>\n      <td>Tianjin</td>\n      <td>China</td>\n      <td>male</td>\n      <td>58.0</td>\n      <td>NaN</td>\n      <td>NaN</td>\n      <td>1/14/2020</td>\n      <td>NaN</td>\n      <td>NaN</td>\n      <td>NaN</td>\n      <td>NaN</td>\n      <td>NaN</td>\n      <td>0.0</td>\n      <td>0.0</td>\n      <td>0</td>\n      <td>0</td>\n      <td>NaN</td>\n      <td>äººæ°æ¥æ¥å®æ¹å¾®å</td>\n      <td>https://m.weibo.cn/status/4463235401268457?</td>\n    </tr>\n  </tbody>\n</table>\n</div>",
      "text/plain": "  reporting_date                                            summary  \\\n0      1/20/2020  First confirmed imported COVID-19 pneumonia pa...   \n1      1/20/2020  First confirmed imported COVID-19 pneumonia pa...   \n2      1/21/2020  First confirmed imported cases in Zhejiang: pa...   \n3      1/21/2020  new confirmed imported COVID-19 pneumonia in T...   \n4      1/21/2020  new confirmed imported COVID-19 pneumonia in T...   \n\n              location country  gender   age symptom_onset  \\\n0  Shenzhen, Guangdong   China    male  66.0      1/3/2020   \n1             Shanghai   China  female  56.0     1/15/2020   \n2             Zhejiang   China    male  46.0      1/4/2020   \n3              Tianjin   China  female  60.0           NaN   \n4              Tianjin   China    male  58.0           NaN   \n\n   If_onset_approximated hosp_visit_date  international_traveler  \\\n0                    0.0       1/11/2020                     NaN   \n1                    0.0       1/15/2020                     NaN   \n2                    0.0       1/17/2020                     NaN   \n3                    NaN       1/19/2020                     NaN   \n4                    NaN       1/14/2020                     NaN   \n\n   domestic_traveler exposure_start exposure_end  traveler  visiting_Wuhan  \\\n0                NaN     12/29/2019     1/4/2020       NaN             1.0   \n1                NaN            NaN    1/12/2020       NaN             0.0   \n2                NaN            NaN     1/3/2020       NaN             0.0   \n3                NaN            NaN          NaN       NaN             1.0   \n4                NaN            NaN          NaN       NaN             0.0   \n\n   from_Wuhan death recovered symptom  \\\n0         0.0     0         0     NaN   \n1         1.0     0         0     NaN   \n2         1.0     0         0     NaN   \n3         0.0     0         0     NaN   \n4         0.0     0         0     NaN   \n\n                                              source  \\\n0               Shenzhen Municipal Health Commission   \n1  Official Weibo of Shanghai Municipal Health Co...   \n2             Health Commission of Zhejiang Province   \n3                           äººæ°æ¥æ¥å®æ¹å¾®å   \n4                           äººæ°æ¥æ¥å®æ¹å¾®å   \n\n                                                link  \n0  http://wjw.sz.gov.cn/wzx/202001/t20200120_1898...  \n1  https://www.weibo.com/2372649470/IqogQhgfa?fro...  \n2  http://www.zjwjw.gov.cn/art/2020/1/21/art_1202...  \n3        https://m.weibo.cn/status/4463235401268457?  \n4        https://m.weibo.cn/status/4463235401268457?  "
     },
     "execution_count": 12,
     "metadata": {},
     "output_type": "execute_result"
    }
   ],
   "source": [
    "df = pd.read_csv('covid-19_03|11|20.csv')\n",
    "df.head()"
   ]
  },
  {
   "cell_type": "code",
   "execution_count": 52,
   "metadata": {},
   "outputs": [
    {
     "data": {
      "text/plain": "(2946, 21)"
     },
     "execution_count": 52,
     "metadata": {},
     "output_type": "execute_result"
    }
   ],
   "source": [
    "df.shape"
   ]
  },
  {
   "cell_type": "code",
   "execution_count": 42,
   "metadata": {},
   "outputs": [
    {
     "data": {
      "text/plain": "reporting_date             0.203666\nsummary                    0.339443\nlocation                  15.342838\ncountry                   13.000679\ngender                    48.200950\nage                       52.715547\nsymptom_onset             76.985743\nIf_onset_approximated     77.970129\nhosp_visit_date           79.158181\ninternational_traveler    73.896809\ndomestic_traveler         73.896809\nexposure_start            93.584521\nexposure_end              83.740665\ntraveler                  77.596741\nvisiting_Wuhan            45.485404\nfrom_Wuhan                45.621181\ndeath                     45.112016\nrecovered                 45.485404\nsymptom                   88.526816\nsource                    45.485404\nlink                      44.942295\ndtype: float64"
     },
     "execution_count": 42,
     "metadata": {},
     "output_type": "execute_result"
    }
   ],
   "source": [
    "(df.isnull().sum()/len(df))*100"
   ]
  },
  {
   "cell_type": "code",
   "execution_count": 45,
   "metadata": {},
   "outputs": [],
   "source": [
    "def unique(df):\n",
    "    for col in df.columns:\n",
    "        print(col + ':' , len(df[col].value_counts()))"
   ]
  },
  {
   "cell_type": "code",
   "execution_count": 46,
   "metadata": {},
   "outputs": [
    {
     "name": "stdout",
     "output_type": "stream",
     "text": "reporting_date: 56\nsummary: 1973\nlocation: 231\ncountry: 38\ngender: 2\nage: 90\nsymptom_onset: 81\nIf_onset_approximated: 3\nhosp_visit_date: 68\ninternational_traveler: 2\ndomestic_traveler: 2\nexposure_start: 48\nexposure_end: 62\ntraveler: 2\nvisiting_Wuhan: 2\nfrom_Wuhan: 2\ndeath: 22\nrecovered: 36\nsymptom: 137\nsource: 109\nlink: 533\ndeath_date: 21\n"
    }
   ],
   "source": [
    "unique(df)"
   ]
  },
  {
   "cell_type": "code",
   "execution_count": 42,
   "metadata": {},
   "outputs": [],
   "source": [
    "def new_death_col(col):\n",
    "    if (col[16] !=  '0' and col[16] != '1'):\n",
    "        return col[16]\n",
    "    else:\n",
    "        return '0'"
   ]
  },
  {
   "cell_type": "code",
   "execution_count": 43,
   "metadata": {},
   "outputs": [],
   "source": [
    "df['death_date'] = df2.apply(new_death_col,axis = 1)"
   ]
  },
  {
   "cell_type": "code",
   "execution_count": 44,
   "metadata": {},
   "outputs": [
    {
     "data": {
      "text/html": "<div>\n<style scoped>\n    .dataframe tbody tr th:only-of-type {\n        vertical-align: middle;\n    }\n\n    .dataframe tbody tr th {\n        vertical-align: top;\n    }\n\n    .dataframe thead th {\n        text-align: right;\n    }\n</style>\n<table border=\"1\" class=\"dataframe\">\n  <thead>\n    <tr style=\"text-align: right;\">\n      <th></th>\n      <th>reporting_date</th>\n      <th>summary</th>\n      <th>location</th>\n      <th>country</th>\n      <th>gender</th>\n      <th>age</th>\n      <th>symptom_onset</th>\n      <th>If_onset_approximated</th>\n      <th>hosp_visit_date</th>\n      <th>international_traveler</th>\n      <th>domestic_traveler</th>\n      <th>exposure_start</th>\n      <th>exposure_end</th>\n      <th>traveler</th>\n      <th>visiting_Wuhan</th>\n      <th>from_Wuhan</th>\n      <th>death</th>\n      <th>recovered</th>\n      <th>symptom</th>\n      <th>source</th>\n      <th>link</th>\n      <th>death_date</th>\n    </tr>\n  </thead>\n  <tbody>\n    <tr>\n      <th>48</th>\n      <td>1/22/2020</td>\n      <td>Death from COVID-19 pneumonia in Wuhan: male, ...</td>\n      <td>Wuhan, Hubei</td>\n      <td>China</td>\n      <td>male</td>\n      <td>61.0</td>\n      <td>12/20/2019</td>\n      <td>0.0</td>\n      <td>12/27/2019</td>\n      <td>NaN</td>\n      <td>NaN</td>\n      <td>NaN</td>\n      <td>NaN</td>\n      <td>NaN</td>\n      <td>0.0</td>\n      <td>1.0</td>\n      <td>1</td>\n      <td>0</td>\n      <td>NaN</td>\n      <td>National Health Commission</td>\n      <td>http://www.nhc.gov.cn/yjb/s3578/202001/5d19a4f...</td>\n      <td>0</td>\n    </tr>\n    <tr>\n      <th>49</th>\n      <td>1/22/2020</td>\n      <td>Death from COVID-19 pneumonia in Wuhan: male, ...</td>\n      <td>Wuhan, Hubei</td>\n      <td>China</td>\n      <td>male</td>\n      <td>69.0</td>\n      <td>12/30/2019</td>\n      <td>0.0</td>\n      <td>1/3/2020</td>\n      <td>NaN</td>\n      <td>NaN</td>\n      <td>NaN</td>\n      <td>NaN</td>\n      <td>NaN</td>\n      <td>0.0</td>\n      <td>1.0</td>\n      <td>1</td>\n      <td>0</td>\n      <td>NaN</td>\n      <td>National Health Commission</td>\n      <td>http://www.nhc.gov.cn/yjb/s3578/202001/5d19a4f...</td>\n      <td>0</td>\n    </tr>\n    <tr>\n      <th>50</th>\n      <td>1/22/2020</td>\n      <td>Death from COVID-19 pneumonia in Wuhan: male, ...</td>\n      <td>Wuhan, Hubei</td>\n      <td>China</td>\n      <td>male</td>\n      <td>89.0</td>\n      <td>1/8/2020</td>\n      <td>0.0</td>\n      <td>NaN</td>\n      <td>NaN</td>\n      <td>NaN</td>\n      <td>NaN</td>\n      <td>NaN</td>\n      <td>NaN</td>\n      <td>0.0</td>\n      <td>1.0</td>\n      <td>1</td>\n      <td>0</td>\n      <td>NaN</td>\n      <td>National Health Commission</td>\n      <td>http://www.nhc.gov.cn/yjb/s3578/202001/5d19a4f...</td>\n      <td>0</td>\n    </tr>\n    <tr>\n      <th>51</th>\n      <td>1/22/2020</td>\n      <td>Death from COVID-19 pneumonia in Wuhan: male, ...</td>\n      <td>Wuhan, Hubei</td>\n      <td>China</td>\n      <td>male</td>\n      <td>89.0</td>\n      <td>01/13/2020</td>\n      <td>0.0</td>\n      <td>1/13/2020</td>\n      <td>NaN</td>\n      <td>NaN</td>\n      <td>NaN</td>\n      <td>NaN</td>\n      <td>NaN</td>\n      <td>0.0</td>\n      <td>1.0</td>\n      <td>1</td>\n      <td>0</td>\n      <td>NaN</td>\n      <td>National Health Commission</td>\n      <td>http://www.nhc.gov.cn/yjb/s3578/202001/5d19a4f...</td>\n      <td>0</td>\n    </tr>\n    <tr>\n      <th>52</th>\n      <td>1/22/2020</td>\n      <td>Death from COVID-19 pneumonia in Wuhan: male, ...</td>\n      <td>Wuhan, Hubei</td>\n      <td>China</td>\n      <td>male</td>\n      <td>66.0</td>\n      <td>1/10/2020</td>\n      <td>0.0</td>\n      <td>1/16/2020</td>\n      <td>NaN</td>\n      <td>NaN</td>\n      <td>NaN</td>\n      <td>NaN</td>\n      <td>NaN</td>\n      <td>0.0</td>\n      <td>1.0</td>\n      <td>1</td>\n      <td>0</td>\n      <td>NaN</td>\n      <td>National Health Commission</td>\n      <td>http://www.nhc.gov.cn/yjb/s3578/202001/5d19a4f...</td>\n      <td>0</td>\n    </tr>\n    <tr>\n      <th>...</th>\n      <td>...</td>\n      <td>...</td>\n      <td>...</td>\n      <td>...</td>\n      <td>...</td>\n      <td>...</td>\n      <td>...</td>\n      <td>...</td>\n      <td>...</td>\n      <td>...</td>\n      <td>...</td>\n      <td>...</td>\n      <td>...</td>\n      <td>...</td>\n      <td>...</td>\n      <td>...</td>\n      <td>...</td>\n      <td>...</td>\n      <td>...</td>\n      <td>...</td>\n      <td>...</td>\n      <td>...</td>\n    </tr>\n    <tr>\n      <th>2820</th>\n      <td>2/2/2020</td>\n      <td>new confirmed COVID-19 patient in Philippines:...</td>\n      <td>Manila</td>\n      <td>Phillipines</td>\n      <td>male</td>\n      <td>44.0</td>\n      <td>1/25/2020</td>\n      <td>1.0</td>\n      <td>1/25/2020</td>\n      <td>NaN</td>\n      <td>NaN</td>\n      <td>NaN</td>\n      <td>1/21/2020</td>\n      <td>NaN</td>\n      <td>0.0</td>\n      <td>1.0</td>\n      <td>2/1/2020</td>\n      <td>0</td>\n      <td>fever, cough, sore throat</td>\n      <td>Department of Health</td>\n      <td>https://www.doh.gov.ph/press-release/DOH-revea...</td>\n      <td>2/1/2020</td>\n    </tr>\n    <tr>\n      <th>2943</th>\n      <td>2/19/2020</td>\n      <td>new confirmed COVID-19 patient in Iran: died, ...</td>\n      <td>Qom</td>\n      <td>Iran</td>\n      <td>NaN</td>\n      <td>NaN</td>\n      <td>NaN</td>\n      <td>NaN</td>\n      <td>NaN</td>\n      <td>NaN</td>\n      <td>NaN</td>\n      <td>NaN</td>\n      <td>NaN</td>\n      <td>NaN</td>\n      <td>0.0</td>\n      <td>0.0</td>\n      <td>2/19/2020</td>\n      <td>0</td>\n      <td>NaN</td>\n      <td>ABC News</td>\n      <td>https://abcnews.go.com/International/wireStory...</td>\n      <td>2/19/2020</td>\n    </tr>\n    <tr>\n      <th>2944</th>\n      <td>2/19/2020</td>\n      <td>new confirmed COVID-19 patient in Iran: died, ...</td>\n      <td>Qom</td>\n      <td>Iran</td>\n      <td>NaN</td>\n      <td>NaN</td>\n      <td>NaN</td>\n      <td>NaN</td>\n      <td>NaN</td>\n      <td>NaN</td>\n      <td>NaN</td>\n      <td>NaN</td>\n      <td>NaN</td>\n      <td>NaN</td>\n      <td>0.0</td>\n      <td>0.0</td>\n      <td>2/19/2020</td>\n      <td>0</td>\n      <td>NaN</td>\n      <td>ABC News</td>\n      <td>https://abcnews.go.com/International/wireStory...</td>\n      <td>2/19/2020</td>\n    </tr>\n    <tr>\n      <th>2945</th>\n      <td>2/20/2020</td>\n      <td>new confirmed COVID-19 patient in Iran: Qom</td>\n      <td>Qom</td>\n      <td>Iran</td>\n      <td>NaN</td>\n      <td>NaN</td>\n      <td>NaN</td>\n      <td>NaN</td>\n      <td>NaN</td>\n      <td>NaN</td>\n      <td>NaN</td>\n      <td>NaN</td>\n      <td>NaN</td>\n      <td>NaN</td>\n      <td>0.0</td>\n      <td>0.0</td>\n      <td>2/21/2020</td>\n      <td>0</td>\n      <td>NaN</td>\n      <td>Iran Ministry of Health</td>\n      <td>http://behdasht.gov.ir/news/%DA%A9%D8%B1%D9%88...</td>\n      <td>2/21/2020</td>\n    </tr>\n    <tr>\n      <th>2946</th>\n      <td>2/20/2020</td>\n      <td>new confirmed COVID-19 patient in Iran: Qom</td>\n      <td>Qom</td>\n      <td>Iran</td>\n      <td>NaN</td>\n      <td>NaN</td>\n      <td>NaN</td>\n      <td>NaN</td>\n      <td>NaN</td>\n      <td>NaN</td>\n      <td>NaN</td>\n      <td>NaN</td>\n      <td>NaN</td>\n      <td>NaN</td>\n      <td>0.0</td>\n      <td>0.0</td>\n      <td>2/21/2020</td>\n      <td>0</td>\n      <td>NaN</td>\n      <td>Iran Ministry of Health</td>\n      <td>http://behdasht.gov.ir/news/%DA%A9%D8%B1%D9%88...</td>\n      <td>2/21/2020</td>\n    </tr>\n  </tbody>\n</table>\n<p>1468 rows × 22 columns</p>\n</div>",
      "text/plain": "     reporting_date                                            summary  \\\n48        1/22/2020  Death from COVID-19 pneumonia in Wuhan: male, ...   \n49        1/22/2020  Death from COVID-19 pneumonia in Wuhan: male, ...   \n50        1/22/2020  Death from COVID-19 pneumonia in Wuhan: male, ...   \n51        1/22/2020  Death from COVID-19 pneumonia in Wuhan: male, ...   \n52        1/22/2020  Death from COVID-19 pneumonia in Wuhan: male, ...   \n...             ...                                                ...   \n2820       2/2/2020  new confirmed COVID-19 patient in Philippines:...   \n2943      2/19/2020  new confirmed COVID-19 patient in Iran: died, ...   \n2944      2/19/2020  new confirmed COVID-19 patient in Iran: died, ...   \n2945      2/20/2020        new confirmed COVID-19 patient in Iran: Qom   \n2946      2/20/2020        new confirmed COVID-19 patient in Iran: Qom   \n\n          location      country gender   age symptom_onset  \\\n48    Wuhan, Hubei        China   male  61.0    12/20/2019   \n49    Wuhan, Hubei        China   male  69.0    12/30/2019   \n50    Wuhan, Hubei        China   male  89.0      1/8/2020   \n51    Wuhan, Hubei        China   male  89.0    01/13/2020   \n52    Wuhan, Hubei        China   male  66.0     1/10/2020   \n...            ...          ...    ...   ...           ...   \n2820        Manila  Phillipines   male  44.0     1/25/2020   \n2943           Qom         Iran    NaN   NaN           NaN   \n2944           Qom         Iran    NaN   NaN           NaN   \n2945           Qom         Iran    NaN   NaN           NaN   \n2946           Qom         Iran    NaN   NaN           NaN   \n\n      If_onset_approximated hosp_visit_date  international_traveler  \\\n48                      0.0      12/27/2019                     NaN   \n49                      0.0        1/3/2020                     NaN   \n50                      0.0             NaN                     NaN   \n51                      0.0       1/13/2020                     NaN   \n52                      0.0       1/16/2020                     NaN   \n...                     ...             ...                     ...   \n2820                    1.0       1/25/2020                     NaN   \n2943                    NaN             NaN                     NaN   \n2944                    NaN             NaN                     NaN   \n2945                    NaN             NaN                     NaN   \n2946                    NaN             NaN                     NaN   \n\n      domestic_traveler exposure_start exposure_end  traveler  visiting_Wuhan  \\\n48                  NaN            NaN          NaN       NaN             0.0   \n49                  NaN            NaN          NaN       NaN             0.0   \n50                  NaN            NaN          NaN       NaN             0.0   \n51                  NaN            NaN          NaN       NaN             0.0   \n52                  NaN            NaN          NaN       NaN             0.0   \n...                 ...            ...          ...       ...             ...   \n2820                NaN            NaN    1/21/2020       NaN             0.0   \n2943                NaN            NaN          NaN       NaN             0.0   \n2944                NaN            NaN          NaN       NaN             0.0   \n2945                NaN            NaN          NaN       NaN             0.0   \n2946                NaN            NaN          NaN       NaN             0.0   \n\n      from_Wuhan      death recovered                    symptom  \\\n48           1.0          1         0                        NaN   \n49           1.0          1         0                        NaN   \n50           1.0          1         0                        NaN   \n51           1.0          1         0                        NaN   \n52           1.0          1         0                        NaN   \n...          ...        ...       ...                        ...   \n2820         1.0   2/1/2020         0  fever, cough, sore throat   \n2943         0.0  2/19/2020         0                        NaN   \n2944         0.0  2/19/2020         0                        NaN   \n2945         0.0  2/21/2020         0                        NaN   \n2946         0.0  2/21/2020         0                        NaN   \n\n                          source  \\\n48    National Health Commission   \n49    National Health Commission   \n50    National Health Commission   \n51    National Health Commission   \n52    National Health Commission   \n...                          ...   \n2820        Department of Health   \n2943                    ABC News   \n2944                    ABC News   \n2945     Iran Ministry of Health   \n2946     Iran Ministry of Health   \n\n                                                   link death_date  \n48    http://www.nhc.gov.cn/yjb/s3578/202001/5d19a4f...          0  \n49    http://www.nhc.gov.cn/yjb/s3578/202001/5d19a4f...          0  \n50    http://www.nhc.gov.cn/yjb/s3578/202001/5d19a4f...          0  \n51    http://www.nhc.gov.cn/yjb/s3578/202001/5d19a4f...          0  \n52    http://www.nhc.gov.cn/yjb/s3578/202001/5d19a4f...          0  \n...                                                 ...        ...  \n2820  https://www.doh.gov.ph/press-release/DOH-revea...   2/1/2020  \n2943  https://abcnews.go.com/International/wireStory...  2/19/2020  \n2944  https://abcnews.go.com/International/wireStory...  2/19/2020  \n2945  http://behdasht.gov.ir/news/%DA%A9%D8%B1%D9%88...  2/21/2020  \n2946  http://behdasht.gov.ir/news/%DA%A9%D8%B1%D9%88...  2/21/2020  \n\n[1468 rows x 22 columns]"
     },
     "execution_count": 44,
     "metadata": {},
     "output_type": "execute_result"
    }
   ],
   "source": [
    "df[df['death'] != '0']"
   ]
  },
  {
   "cell_type": "code",
   "execution_count": 47,
   "metadata": {},
   "outputs": [
    {
     "data": {
      "text/plain": "0            1578\n2/23/2020       5\n3/10/2020       4\n2/26/2020       4\n3/1/2020        3\n3/8/2020        3\n2/22/2020       2\n2/27/2020       2\n2/25/2020       2\n2/21/2020       2\n2/19/2020       2\n2/29/2020       1\n2/14/2020       1\n2/28/2020       1\n2/13/2020       1\n3/9/2020        1\n3/6/2020        1\n2/1/2020        1\n2/24/2020       1\n3/3/2020        1\n3/4/2020        1\nName: death_date, dtype: int64"
     },
     "execution_count": 47,
     "metadata": {},
     "output_type": "execute_result"
    }
   ],
   "source": [
    "df['death_date'].value_counts()"
   ]
  },
  {
   "cell_type": "code",
   "execution_count": null,
   "metadata": {},
   "outputs": [],
   "source": []
  }
 ]
}